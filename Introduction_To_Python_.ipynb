{
  "nbformat": 4,
  "nbformat_minor": 0,
  "metadata": {
    "colab": {
      "name": "Introduction To Python .ipynb",
      "provenance": [],
      "collapsed_sections": [],
      "authorship_tag": "ABX9TyMSKIWC/SXWZpRI9Txu+2Q9",
      "include_colab_link": true
    },
    "kernelspec": {
      "name": "python3",
      "display_name": "Python 3"
    }
  },
  "cells": [
    {
      "cell_type": "markdown",
      "metadata": {
        "id": "view-in-github",
        "colab_type": "text"
      },
      "source": [
        "<a href=\"https://colab.research.google.com/github/Shoyeb-Nazir-1699/Artificial-Intelligence-Python/blob/main/Introduction_To_Python_.ipynb\" target=\"_parent\"><img src=\"https://colab.research.google.com/assets/colab-badge.svg\" alt=\"Open In Colab\"/></a>"
      ]
    },
    {
      "cell_type": "markdown",
      "metadata": {
        "id": "tK3i3tpGSQEa"
      },
      "source": [
        "#**Basic Python**\n",
        "#My Python First Program \"Print HeLLo World\"\n",
        "\n"
      ]
    },
    {
      "cell_type": "code",
      "metadata": {
        "id": "t9wSbbhtsUZp",
        "outputId": "fb83fa5d-ac36-411e-e116-9ad5909e726b",
        "colab": {
          "base_uri": "https://localhost:8080/",
          "height": 51
        }
      },
      "source": [
        "print(\"Hello world\")\n",
        "print(\"Shoyeb Nazir  ID: 173-15-1699\")\n"
      ],
      "execution_count": 1,
      "outputs": [
        {
          "output_type": "stream",
          "text": [
            "Hello world\n",
            "Shoyeb Nazir  ID: 173-15-1699\n"
          ],
          "name": "stdout"
        }
      ]
    },
    {
      "cell_type": "markdown",
      "metadata": {
        "id": "WiHn-5loS1gh"
      },
      "source": [
        "#Variables and Assignment Statements\n",
        "\n"
      ]
    },
    {
      "cell_type": "code",
      "metadata": {
        "id": "NVmZ2egXSob5",
        "outputId": "a024ad1f-59f2-4f6d-c197-f0cae43f56fc",
        "colab": {
          "base_uri": "https://localhost:8080/",
          "height": 34
        }
      },
      "source": [
        "x=5\n",
        "y=4\n",
        "print(x+y)"
      ],
      "execution_count": 74,
      "outputs": [
        {
          "output_type": "stream",
          "text": [
            "9\n"
          ],
          "name": "stdout"
        }
      ]
    },
    {
      "cell_type": "code",
      "metadata": {
        "id": "PK56v79hnKD-",
        "outputId": "ec39f280-2cdc-467d-9260-68ae1420b857",
        "colab": {
          "base_uri": "https://localhost:8080/",
          "height": 34
        }
      },
      "source": [
        "total = x+y\n",
        "print(total)"
      ],
      "execution_count": null,
      "outputs": [
        {
          "output_type": "stream",
          "text": [
            "8\n"
          ],
          "name": "stdout"
        }
      ]
    },
    {
      "cell_type": "code",
      "metadata": {
        "id": "zRuEPWC0ojZ8",
        "outputId": "9f1690ad-d268-4848-eb8a-a0262b96696b",
        "colab": {
          "base_uri": "https://localhost:8080/",
          "height": 34
        }
      },
      "source": [
        "name = \"Shoyeb\"\n",
        "name2 = \"Nazir\"\n",
        "print(name , name2)"
      ],
      "execution_count": 3,
      "outputs": [
        {
          "output_type": "stream",
          "text": [
            "Shoyeb Nazir\n"
          ],
          "name": "stdout"
        }
      ]
    },
    {
      "cell_type": "markdown",
      "metadata": {
        "id": "_eeFj8SDpQW5"
      },
      "source": [
        "#Types"
      ]
    },
    {
      "cell_type": "code",
      "metadata": {
        "id": "9ra_9FBgpM1D",
        "outputId": "57872d2b-f912-4da3-e721-62fa1a634609",
        "colab": {
          "base_uri": "https://localhost:8080/",
          "height": 34
        }
      },
      "source": [
        "x =10\n",
        "type(x)"
      ],
      "execution_count": 4,
      "outputs": [
        {
          "output_type": "execute_result",
          "data": {
            "text/plain": [
              "int"
            ]
          },
          "metadata": {
            "tags": []
          },
          "execution_count": 4
        }
      ]
    },
    {
      "cell_type": "code",
      "metadata": {
        "id": "KXdE6VfVqPPT",
        "outputId": "df795ef6-e161-409e-ca42-b5c0ff78d947",
        "colab": {
          "base_uri": "https://localhost:8080/",
          "height": 34
        }
      },
      "source": [
        "type(10.5)"
      ],
      "execution_count": 5,
      "outputs": [
        {
          "output_type": "execute_result",
          "data": {
            "text/plain": [
              "float"
            ]
          },
          "metadata": {
            "tags": []
          },
          "execution_count": 5
        }
      ]
    },
    {
      "cell_type": "code",
      "metadata": {
        "id": "xgxONwFPqRdV",
        "outputId": "1e792427-410a-48fd-815c-18294edfee69",
        "colab": {
          "base_uri": "https://localhost:8080/",
          "height": 34
        }
      },
      "source": [
        "type(name)"
      ],
      "execution_count": 6,
      "outputs": [
        {
          "output_type": "execute_result",
          "data": {
            "text/plain": [
              "str"
            ]
          },
          "metadata": {
            "tags": []
          },
          "execution_count": 6
        }
      ]
    },
    {
      "cell_type": "markdown",
      "metadata": {
        "id": "kcJRAGHJqgYi"
      },
      "source": [
        "#Arithmetic operators\n"
      ]
    },
    {
      "cell_type": "code",
      "metadata": {
        "id": "sdZKpVofqV2z",
        "outputId": "85af6058-af78-4a47-b5cd-b99be06d043d",
        "colab": {
          "base_uri": "https://localhost:8080/",
          "height": 34
        }
      },
      "source": [
        "multiplication = 5*5\n",
        "print(multiplication)"
      ],
      "execution_count": 7,
      "outputs": [
        {
          "output_type": "stream",
          "text": [
            "25\n"
          ],
          "name": "stdout"
        }
      ]
    },
    {
      "cell_type": "code",
      "metadata": {
        "id": "Ww3sgxMSqnBT",
        "outputId": "1f8364e2-0d50-4fe5-d4ba-ae1fa680c203",
        "colab": {
          "base_uri": "https://localhost:8080/",
          "height": 34
        }
      },
      "source": [
        "add = 10+10\n",
        "print(add)"
      ],
      "execution_count": 11,
      "outputs": [
        {
          "output_type": "stream",
          "text": [
            "20\n"
          ],
          "name": "stdout"
        }
      ]
    },
    {
      "cell_type": "code",
      "metadata": {
        "id": "LKU0FoKRrKHL",
        "outputId": "296d91b9-c7a1-4b7d-af4b-82baf3bab5bf",
        "colab": {
          "base_uri": "https://localhost:8080/",
          "height": 34
        }
      },
      "source": [
        "sub = 20-5\n",
        "print(sub)"
      ],
      "execution_count": 10,
      "outputs": [
        {
          "output_type": "stream",
          "text": [
            "15\n"
          ],
          "name": "stdout"
        }
      ]
    },
    {
      "cell_type": "code",
      "metadata": {
        "id": "EyQp4EQROWzX",
        "outputId": "3624e9c3-aba5-476b-b183-6a55542a0874",
        "colab": {
          "base_uri": "https://localhost:8080/",
          "height": 34
        }
      },
      "source": [
        "Exponentiation =2**5\n",
        "print(Exponentiation)"
      ],
      "execution_count": 14,
      "outputs": [
        {
          "output_type": "stream",
          "text": [
            "32\n"
          ],
          "name": "stdout"
        }
      ]
    },
    {
      "cell_type": "code",
      "metadata": {
        "id": "YD2GNT03PGOs",
        "outputId": "ae09eb33-c47d-4fdd-e106-447369dbcd43",
        "colab": {
          "base_uri": "https://localhost:8080/",
          "height": 34
        }
      },
      "source": [
        "True_Division = 10/4\n",
        "print(True_Division)"
      ],
      "execution_count": 15,
      "outputs": [
        {
          "output_type": "stream",
          "text": [
            "2.5\n"
          ],
          "name": "stdout"
        }
      ]
    },
    {
      "cell_type": "code",
      "metadata": {
        "id": "pyxD0_uxPkpJ",
        "outputId": "48c5d564-88b0-47d5-b873-1fb316448b63",
        "colab": {
          "base_uri": "https://localhost:8080/",
          "height": 34
        }
      },
      "source": [
        "Floor_Division = 7//4\n",
        "print(Floor_Division)"
      ],
      "execution_count": 16,
      "outputs": [
        {
          "output_type": "stream",
          "text": [
            "1\n"
          ],
          "name": "stdout"
        }
      ]
    },
    {
      "cell_type": "code",
      "metadata": {
        "id": "ptXNi_8yP2hN",
        "outputId": "c0c07c7c-fabd-483e-a572-48a71c7c73bd",
        "colab": {
          "base_uri": "https://localhost:8080/",
          "height": 34
        }
      },
      "source": [
        "remainder = 25%5\n",
        "print(remainder)"
      ],
      "execution_count": 17,
      "outputs": [
        {
          "output_type": "stream",
          "text": [
            "0\n"
          ],
          "name": "stdout"
        }
      ]
    },
    {
      "cell_type": "code",
      "metadata": {
        "id": "sIuMPHypQAgt",
        "outputId": "1f072f3e-6751-4efb-c098-bf614608270a",
        "colab": {
          "base_uri": "https://localhost:8080/",
          "height": 34
        }
      },
      "source": [
        "x = 105\n",
        "y = 100\n",
        "x>y"
      ],
      "execution_count": 19,
      "outputs": [
        {
          "output_type": "execute_result",
          "data": {
            "text/plain": [
              "True"
            ]
          },
          "metadata": {
            "tags": []
          },
          "execution_count": 19
        }
      ]
    },
    {
      "cell_type": "code",
      "metadata": {
        "id": "NxLYuJHGRB1v",
        "outputId": "2f723936-aacd-449b-be1f-8db4a6c793d6",
        "colab": {
          "base_uri": "https://localhost:8080/",
          "height": 34
        }
      },
      "source": [
        "x<y"
      ],
      "execution_count": 20,
      "outputs": [
        {
          "output_type": "execute_result",
          "data": {
            "text/plain": [
              "False"
            ]
          },
          "metadata": {
            "tags": []
          },
          "execution_count": 20
        }
      ]
    },
    {
      "cell_type": "code",
      "metadata": {
        "id": "-z8w1RjtRHRA",
        "outputId": "85f69de6-46f2-4e8d-d7ba-4e6c8855bd07",
        "colab": {
          "base_uri": "https://localhost:8080/",
          "height": 34
        }
      },
      "source": [
        "x==y"
      ],
      "execution_count": 21,
      "outputs": [
        {
          "output_type": "execute_result",
          "data": {
            "text/plain": [
              "False"
            ]
          },
          "metadata": {
            "tags": []
          },
          "execution_count": 21
        }
      ]
    },
    {
      "cell_type": "code",
      "metadata": {
        "id": "-RXDDd3mRLot",
        "outputId": "4c1b52e5-7c0c-4c29-c3f7-18ca4b370a2b",
        "colab": {
          "base_uri": "https://localhost:8080/",
          "height": 34
        }
      },
      "source": [
        "x!=y"
      ],
      "execution_count": 22,
      "outputs": [
        {
          "output_type": "execute_result",
          "data": {
            "text/plain": [
              "True"
            ]
          },
          "metadata": {
            "tags": []
          },
          "execution_count": 22
        }
      ]
    },
    {
      "cell_type": "code",
      "metadata": {
        "id": "hEqbl-GhRSXG",
        "outputId": "c99dd484-a427-4a07-fae2-afc1d7d47e7a",
        "colab": {
          "base_uri": "https://localhost:8080/",
          "height": 34
        }
      },
      "source": [
        "x>=y"
      ],
      "execution_count": 23,
      "outputs": [
        {
          "output_type": "execute_result",
          "data": {
            "text/plain": [
              "True"
            ]
          },
          "metadata": {
            "tags": []
          },
          "execution_count": 23
        }
      ]
    },
    {
      "cell_type": "code",
      "metadata": {
        "id": "ZCMZ2_6oRYVu",
        "outputId": "235c2925-e2c3-4197-8697-bed65e19a79f",
        "colab": {
          "base_uri": "https://localhost:8080/",
          "height": 34
        }
      },
      "source": [
        "x<=y"
      ],
      "execution_count": 24,
      "outputs": [
        {
          "output_type": "execute_result",
          "data": {
            "text/plain": [
              "False"
            ]
          },
          "metadata": {
            "tags": []
          },
          "execution_count": 24
        }
      ]
    },
    {
      "cell_type": "code",
      "metadata": {
        "id": "SjrgDy-CSsNt",
        "outputId": "93974a61-9a4f-4e57-c7c3-9ecf152e4f69",
        "colab": {
          "base_uri": "https://localhost:8080/",
          "height": 34
        }
      },
      "source": [
        "x = 3\n",
        "y = 10\n",
        "1 <= x <= 5"
      ],
      "execution_count": 25,
      "outputs": [
        {
          "output_type": "execute_result",
          "data": {
            "text/plain": [
              "True"
            ]
          },
          "metadata": {
            "tags": []
          },
          "execution_count": 25
        }
      ]
    },
    {
      "cell_type": "code",
      "metadata": {
        "id": "dtnRX9HRS04-",
        "outputId": "f24184b3-3e33-453b-9fbb-f4ef40d40cad",
        "colab": {
          "base_uri": "https://localhost:8080/",
          "height": 34
        }
      },
      "source": [
        "1 <= y <= 5"
      ],
      "execution_count": 26,
      "outputs": [
        {
          "output_type": "execute_result",
          "data": {
            "text/plain": [
              "False"
            ]
          },
          "metadata": {
            "tags": []
          },
          "execution_count": 26
        }
      ]
    },
    {
      "cell_type": "markdown",
      "metadata": {
        "id": "OIYc5YuWURuM"
      },
      "source": [
        "#*Printing a Comma-Separated List of Items*"
      ]
    },
    {
      "cell_type": "code",
      "metadata": {
        "id": "9tAYd4q2UN3P",
        "outputId": "5daa3a31-8074-4804-c8bb-be8ba53328d5",
        "colab": {
          "base_uri": "https://localhost:8080/",
          "height": 34
        }
      },
      "source": [
        "print('Welcome', 'to', 'Python!')"
      ],
      "execution_count": 27,
      "outputs": [
        {
          "output_type": "stream",
          "text": [
            "Welcome to Python!\n"
          ],
          "name": "stdout"
        }
      ]
    },
    {
      "cell_type": "markdown",
      "metadata": {
        "id": "I3cd3iuVU8n7"
      },
      "source": [
        "#*Printing Many Lines of Text with One Statement*\n"
      ]
    },
    {
      "cell_type": "code",
      "metadata": {
        "id": "4i2EFxJbUsk1",
        "outputId": "3b6e28b5-9fa0-4cff-d49f-cd563c7572c2",
        "colab": {
          "base_uri": "https://localhost:8080/",
          "height": 85
        }
      },
      "source": [
        "print('Welcome\\nto\\n\\nPython!')"
      ],
      "execution_count": 28,
      "outputs": [
        {
          "output_type": "stream",
          "text": [
            "Welcome\n",
            "to\n",
            "\n",
            "Python!\n"
          ],
          "name": "stdout"
        }
      ]
    },
    {
      "cell_type": "markdown",
      "metadata": {
        "id": "goIRiH0WYGCk"
      },
      "source": [
        "# *Ignoring a Line Break in a Long String*"
      ]
    },
    {
      "cell_type": "code",
      "metadata": {
        "id": "dU9DM-0tXrZP",
        "outputId": "607b1899-5f56-46f3-83a9-699eb4b103e2",
        "colab": {
          "base_uri": "https://localhost:8080/",
          "height": 34
        }
      },
      "source": [
        "print('this is a longer string, so we \\\n",
        "split it over two lines')"
      ],
      "execution_count": 29,
      "outputs": [
        {
          "output_type": "stream",
          "text": [
            "this is a longer string, so we split it over two lines\n"
          ],
          "name": "stdout"
        }
      ]
    },
    {
      "cell_type": "markdown",
      "metadata": {
        "id": "hxDE9EbKYhGL"
      },
      "source": [
        "# *Printing the Value of an Expression*"
      ]
    },
    {
      "cell_type": "code",
      "metadata": {
        "id": "LFnr1miCYY1v",
        "outputId": "9dc4ce5d-f683-46ac-e897-947371ffe50f",
        "colab": {
          "base_uri": "https://localhost:8080/",
          "height": 34
        }
      },
      "source": [
        "print('Sum is', 5 + 3)"
      ],
      "execution_count": 30,
      "outputs": [
        {
          "output_type": "stream",
          "text": [
            "Sum is 8\n"
          ],
          "name": "stdout"
        }
      ]
    },
    {
      "cell_type": "code",
      "metadata": {
        "id": "fC67yTX0YtEe",
        "outputId": "263f69b5-472c-4065-80b5-ebdb427109b4",
        "colab": {
          "base_uri": "https://localhost:8080/",
          "height": 34
        }
      },
      "source": [
        "print('int(5.2)', 'truncates 5.2 to', int(5.2))"
      ],
      "execution_count": 31,
      "outputs": [
        {
          "output_type": "stream",
          "text": [
            "int(5.2) truncates 5.2 to 5\n"
          ],
          "name": "stdout"
        }
      ]
    },
    {
      "cell_type": "markdown",
      "metadata": {
        "id": "8CC6VhMkZLit"
      },
      "source": [
        "# *Including Quotes in Strings*"
      ]
    },
    {
      "cell_type": "code",
      "metadata": {
        "id": "DCvG2d0AZDVG",
        "outputId": "fb7007e2-d702-46cf-812f-6d41994a60fb",
        "colab": {
          "base_uri": "https://localhost:8080/",
          "height": 34
        }
      },
      "source": [
        "print('Display \"hi\" in quotes')"
      ],
      "execution_count": 32,
      "outputs": [
        {
          "output_type": "stream",
          "text": [
            "Display \"hi\" in quotes\n"
          ],
          "name": "stdout"
        }
      ]
    },
    {
      "cell_type": "code",
      "metadata": {
        "id": "KHupdibCZO_m",
        "outputId": "670c1c33-a7f4-4573-820a-970c25fc1025",
        "colab": {
          "base_uri": "https://localhost:8080/",
          "height": 34
        }
      },
      "source": [
        "print('Display \\'hi\\' in quotes')\n",
        "#using the \\' escape sequence:"
      ],
      "execution_count": 33,
      "outputs": [
        {
          "output_type": "stream",
          "text": [
            "Display 'hi' in quotes\n"
          ],
          "name": "stdout"
        }
      ]
    },
    {
      "cell_type": "code",
      "metadata": {
        "id": "H0c6xvxQZahR",
        "outputId": "262982cb-d1c0-42ca-88de-2b633650544e",
        "colab": {
          "base_uri": "https://localhost:8080/",
          "height": 34
        }
      },
      "source": [
        "print(\"Display the name O'Brien\")"
      ],
      "execution_count": 34,
      "outputs": [
        {
          "output_type": "stream",
          "text": [
            "Display the name O'Brien\n"
          ],
          "name": "stdout"
        }
      ]
    },
    {
      "cell_type": "code",
      "metadata": {
        "id": "dF2W-rcjZekN",
        "outputId": "27bc5cbf-d2c6-428b-a259-0c5aeade2a62",
        "colab": {
          "base_uri": "https://localhost:8080/",
          "height": 34
        }
      },
      "source": [
        "print(\"Display \\\"hi\\\" in quotes\")"
      ],
      "execution_count": 35,
      "outputs": [
        {
          "output_type": "stream",
          "text": [
            "Display \"hi\" in quotes\n"
          ],
          "name": "stdout"
        }
      ]
    },
    {
      "cell_type": "markdown",
      "metadata": {
        "id": "6wg1ljfgZtUF"
      },
      "source": [
        "# *To avoid using ' and \" inside strings, you can enclose such strings in triplequotes: italicized text italicized text italicized text*"
      ]
    },
    {
      "cell_type": "code",
      "metadata": {
        "id": "GqlGQDFxZmv3",
        "outputId": "1067c771-d69e-4007-fd9d-6824cb7da47e",
        "colab": {
          "base_uri": "https://localhost:8080/",
          "height": 34
        }
      },
      "source": [
        "print(\"\"\"Display \"hi\" and 'bye' in quotes\"\"\")"
      ],
      "execution_count": 36,
      "outputs": [
        {
          "output_type": "stream",
          "text": [
            "Display \"hi\" and 'bye' in quotes\n"
          ],
          "name": "stdout"
        }
      ]
    },
    {
      "cell_type": "markdown",
      "metadata": {
        "id": "vSSlweBTaKd7"
      },
      "source": [
        "# *Multiline Strings*"
      ]
    },
    {
      "cell_type": "code",
      "metadata": {
        "id": "eCC_0q2EZ70u",
        "outputId": "13adb192-2dea-4eb8-da97-ef199a2f8964",
        "colab": {
          "base_uri": "https://localhost:8080/",
          "height": 51
        }
      },
      "source": [
        "triple_quoted_string = \"\"\"This is a triple-quoted\n",
        "string that spans two lines\"\"\"\n",
        "print(triple_quoted_string)"
      ],
      "execution_count": 37,
      "outputs": [
        {
          "output_type": "stream",
          "text": [
            "This is a triple-quoted\n",
            "string that spans two lines\n"
          ],
          "name": "stdout"
        }
      ]
    },
    {
      "cell_type": "code",
      "metadata": {
        "id": "WdyNpHQKaP2P",
        "outputId": "2fbd63b4-c89f-4b8b-c753-12cb1940a092",
        "colab": {
          "base_uri": "https://localhost:8080/",
          "height": 68
        }
      },
      "source": [
        "print(\"\"\"This is a lengthy\n",
        "multiline string containing\n",
        "a few lines \\\n",
        "of text\"\"\")"
      ],
      "execution_count": 40,
      "outputs": [
        {
          "output_type": "stream",
          "text": [
            "This is a lengthy\n",
            "multiline string containing\n",
            "a few lines of text\n"
          ],
          "name": "stdout"
        }
      ]
    },
    {
      "cell_type": "markdown",
      "metadata": {
        "id": "pEMCi8F4dxVe"
      },
      "source": [
        "# *Precision Handling in Python*"
      ]
    },
    {
      "cell_type": "code",
      "metadata": {
        "id": "k6B2bRgBae7e",
        "outputId": "69d167c0-f45d-40e9-89a6-e1e6da8e926c",
        "colab": {
          "base_uri": "https://localhost:8080/",
          "height": 34
        }
      },
      "source": [
        "# using \"%\" to print value till 2 decimal places\n",
        "a = 5.5536475856\n",
        "print(\"The value of number till 2 decimal place(using %) is :\",end=\"\")\n",
        "print('%.2f' %a)"
      ],
      "execution_count": 56,
      "outputs": [
        {
          "output_type": "stream",
          "text": [
            "The value of number till 2 decimal place(using %) is :5.55\n"
          ],
          "name": "stdout"
        }
      ]
    },
    {
      "cell_type": "code",
      "metadata": {
        "id": "tdUGLldUfRvq",
        "outputId": "0ccf83a6-76bd-48e8-af9d-fc001f400f76",
        "colab": {
          "base_uri": "https://localhost:8080/",
          "height": 34
        }
      },
      "source": [
        "# using \"%\" to print value till 4 decimal places\n",
        "\n",
        "print(\"The value of number till 2 decimal place(using %) is :\",end=\"\")\n",
        "print('%.4f' %a)"
      ],
      "execution_count": 57,
      "outputs": [
        {
          "output_type": "stream",
          "text": [
            "The value of number till 2 decimal place(using %) is :5.5536\n"
          ],
          "name": "stdout"
        }
      ]
    },
    {
      "cell_type": "markdown",
      "metadata": {
        "id": "xSoHPxLRh1K2"
      },
      "source": [
        "# **Getting Input from the User**"
      ]
    },
    {
      "cell_type": "markdown",
      "metadata": {
        "id": "6QELC4D8iFce"
      },
      "source": [
        "# *The built-in input function requests and obtains user input:*"
      ]
    },
    {
      "cell_type": "code",
      "metadata": {
        "id": "DYz6mkhxfrPx",
        "outputId": "82a16896-b678-434d-d3be-6ff78285ebbf",
        "colab": {
          "base_uri": "https://localhost:8080/",
          "height": 51
        }
      },
      "source": [
        "name = input(\"What's your name? \")\n",
        "print(name)"
      ],
      "execution_count": 60,
      "outputs": [
        {
          "output_type": "stream",
          "text": [
            "What's your name? Shoyeb Nazir\n",
            "Shoyeb Nazir\n"
          ],
          "name": "stdout"
        }
      ]
    },
    {
      "cell_type": "code",
      "metadata": {
        "id": "DKBo3JhKd2rb",
        "outputId": "fe1b7911-384f-4f7f-d62c-cdf7d4e027f4",
        "colab": {
          "base_uri": "https://localhost:8080/",
          "height": 68
        }
      },
      "source": [
        "value1 = input('Enter first number: ')\n",
        "value2 = input('Enter second number: ')\n",
        "total = value1 + value2\n",
        "print(total)"
      ],
      "execution_count": 61,
      "outputs": [
        {
          "output_type": "stream",
          "text": [
            "Enter first number: 20\n",
            "Enter second number: 10\n",
            "2010\n"
          ],
          "name": "stdout"
        }
      ]
    },
    {
      "cell_type": "code",
      "metadata": {
        "id": "N9Aa80KDg01b",
        "outputId": "212cf545-3d50-4896-9da8-961a96cfbe89",
        "colab": {
          "base_uri": "https://localhost:8080/",
          "height": 34
        }
      },
      "source": [
        "type(total) #python takes input as a string we have to type cast the input"
      ],
      "execution_count": 62,
      "outputs": [
        {
          "output_type": "execute_result",
          "data": {
            "text/plain": [
              "str"
            ]
          },
          "metadata": {
            "tags": []
          },
          "execution_count": 62
        }
      ]
    },
    {
      "cell_type": "code",
      "metadata": {
        "id": "xDSO8n95g3AY",
        "outputId": "3d7c42f2-1289-4c90-ace2-4e0fd3b47c90",
        "colab": {
          "base_uri": "https://localhost:8080/",
          "height": 34
        }
      },
      "source": [
        "total = int(value1) + int(value2) #type casting to int format\n",
        "print(total)"
      ],
      "execution_count": 63,
      "outputs": [
        {
          "output_type": "stream",
          "text": [
            "30\n"
          ],
          "name": "stdout"
        }
      ]
    },
    {
      "cell_type": "markdown",
      "metadata": {
        "id": "ht-Slsb1ieJw"
      },
      "source": [
        "# *Getting an Integer from the User by casting the input format*"
      ]
    },
    {
      "cell_type": "code",
      "metadata": {
        "id": "eVVXqrRag7yg",
        "outputId": "ccc08f49-4513-40c3-a535-9190e076dbe9",
        "colab": {
          "base_uri": "https://localhost:8080/",
          "height": 51
        }
      },
      "source": [
        "another_value = int(input('Enter another integer: '))\n",
        "print(another_value)"
      ],
      "execution_count": 65,
      "outputs": [
        {
          "output_type": "stream",
          "text": [
            "Enter another integer: 20\n",
            "20\n"
          ],
          "name": "stdout"
        }
      ]
    },
    {
      "cell_type": "markdown",
      "metadata": {
        "id": "BboAjOENhnsm"
      },
      "source": [
        "# *Taking multiple input from the user*"
      ]
    },
    {
      "cell_type": "code",
      "metadata": {
        "id": "Z1dcG-v2hZTg",
        "outputId": "7501d228-babb-4278-f463-092849c529df",
        "colab": {
          "base_uri": "https://localhost:8080/",
          "height": 51
        }
      },
      "source": [
        "a, b = input().split()\n",
        "print(a , b)"
      ],
      "execution_count": 67,
      "outputs": [
        {
          "output_type": "stream",
          "text": [
            "5 7\n",
            "5 7\n"
          ],
          "name": "stdout"
        }
      ]
    },
    {
      "cell_type": "code",
      "metadata": {
        "id": "MSxDp7ojhme6",
        "outputId": "068f629f-5c61-4a73-af3d-b25ef41ec218",
        "colab": {
          "base_uri": "https://localhost:8080/",
          "height": 34
        }
      },
      "source": [
        "print(type(a))"
      ],
      "execution_count": 68,
      "outputs": [
        {
          "output_type": "stream",
          "text": [
            "<class 'str'>\n"
          ],
          "name": "stdout"
        }
      ]
    },
    {
      "cell_type": "code",
      "metadata": {
        "id": "lYjwFLXAipmP",
        "outputId": "eb6123e1-c2cf-4277-818d-17a23a0a2381",
        "colab": {
          "base_uri": "https://localhost:8080/",
          "height": 68
        }
      },
      "source": [
        "number1 = int(input('Enter first integer: '))\n",
        "number2 = int(input('Enter second integer: '))\n",
        "number3 = int(input('Enter third integer: '))"
      ],
      "execution_count": 69,
      "outputs": [
        {
          "output_type": "stream",
          "text": [
            "Enter first integer: 10\n",
            "Enter second integer: 20\n",
            "Enter third integer: 30\n"
          ],
          "name": "stdout"
        }
      ]
    },
    {
      "cell_type": "code",
      "metadata": {
        "id": "wtuJgqBDi_Yh",
        "outputId": "1e77f1cc-1c2d-43cd-d620-1ccdc48fd59d",
        "colab": {
          "base_uri": "https://localhost:8080/",
          "height": 34
        }
      },
      "source": [
        "min(number1,number2,number3)"
      ],
      "execution_count": 70,
      "outputs": [
        {
          "output_type": "execute_result",
          "data": {
            "text/plain": [
              "10"
            ]
          },
          "metadata": {
            "tags": []
          },
          "execution_count": 70
        }
      ]
    },
    {
      "cell_type": "code",
      "metadata": {
        "id": "xZPHqLYGjBZ8",
        "outputId": "2930903f-c78d-42bf-f969-1d15c63fcc1d",
        "colab": {
          "base_uri": "https://localhost:8080/",
          "height": 34
        }
      },
      "source": [
        "max(number1,number2,number3)"
      ],
      "execution_count": 71,
      "outputs": [
        {
          "output_type": "execute_result",
          "data": {
            "text/plain": [
              "30"
            ]
          },
          "metadata": {
            "tags": []
          },
          "execution_count": 71
        }
      ]
    },
    {
      "cell_type": "markdown",
      "metadata": {
        "id": "b6udCAfYkAuW"
      },
      "source": [
        "# **Exercises**"
      ]
    },
    {
      "cell_type": "code",
      "metadata": {
        "id": "erNlyI5bjF5b",
        "outputId": "99c881db-c84c-4d0c-d07c-c72f730fec9e",
        "colab": {
          "base_uri": "https://localhost:8080/",
          "height": 85
        }
      },
      "source": [
        "x=2\n",
        "y=3\n",
        "print('x =', x)\n",
        "print('Value of', x, '+', x, 'is', (x +\n",
        "x))\n",
        "print('x =')\n",
        "print((x + y), '=', (y + x))"
      ],
      "execution_count": 77,
      "outputs": [
        {
          "output_type": "stream",
          "text": [
            "x = 2\n",
            "Value of 2 + 2 is 4\n",
            "x =\n",
            "5 = 5\n"
          ],
          "name": "stdout"
        }
      ]
    }
  ]
}