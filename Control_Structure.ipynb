{
  "nbformat": 4,
  "nbformat_minor": 0,
  "metadata": {
    "colab": {
      "name": "Control_Structure.ipynb",
      "provenance": [],
      "collapsed_sections": [],
      "authorship_tag": "ABX9TyMN190+G18uizjU1yiZSxoi",
      "include_colab_link": true
    },
    "kernelspec": {
      "name": "python3",
      "display_name": "Python 3"
    }
  },
  "cells": [
    {
      "cell_type": "markdown",
      "metadata": {
        "id": "view-in-github",
        "colab_type": "text"
      },
      "source": [
        "<a href=\"https://colab.research.google.com/github/Shoyeb-Nazir-1699/Artificial-Intelligence-Python/blob/main/Control_Structure.ipynb\" target=\"_parent\"><img src=\"https://colab.research.google.com/assets/colab-badge.svg\" alt=\"Open In Colab\"/></a>"
      ]
    },
    {
      "cell_type": "markdown",
      "metadata": {
        "id": "phcN3Yliou_h"
      },
      "source": [
        "# IF statement"
      ]
    },
    {
      "cell_type": "code",
      "metadata": {
        "id": "rCgLn7e5oPXP",
        "outputId": "ff8f859a-8490-4b37-bb3d-3d392d2f4109",
        "colab": {
          "base_uri": "https://localhost:8080/",
          "height": 34
        }
      },
      "source": [
        "grade = 85\n",
        "if grade>=60:\n",
        " print(\"passed\")"
      ],
      "execution_count": 2,
      "outputs": [
        {
          "output_type": "stream",
          "text": [
            "passed\n"
          ],
          "name": "stdout"
        }
      ]
    },
    {
      "cell_type": "markdown",
      "metadata": {
        "id": "mwGMhigPqzS7"
      },
      "source": [
        "# If else statement"
      ]
    },
    {
      "cell_type": "code",
      "metadata": {
        "id": "EzGrwY5Oo32D",
        "outputId": "b0d2d0c7-ae81-4ad0-d319-ff5a8d4ac393",
        "colab": {
          "base_uri": "https://localhost:8080/",
          "height": 34
        }
      },
      "source": [
        "grade =85\n",
        "if grade>=60:\n",
        " print(\"passed\")\n",
        "else:\n",
        " print(\"fail\")"
      ],
      "execution_count": 4,
      "outputs": [
        {
          "output_type": "stream",
          "text": [
            "passed\n"
          ],
          "name": "stdout"
        }
      ]
    },
    {
      "cell_type": "markdown",
      "metadata": {
        "id": "SS9V4-nRrWNB"
      },
      "source": [
        "# *Conditional expression*"
      ]
    },
    {
      "cell_type": "code",
      "metadata": {
        "id": "OiBh7wmMq6ZT",
        "outputId": "182e5a68-831e-46eb-cea1-0c33d4f86b21",
        "colab": {
          "base_uri": "https://localhost:8080/",
          "height": 34
        }
      },
      "source": [
        "result = ('Passed' if grade >= 60 else'Failed')\n",
        "print(result)"
      ],
      "execution_count": 7,
      "outputs": [
        {
          "output_type": "stream",
          "text": [
            "Passed\n"
          ],
          "name": "stdout"
        }
      ]
    },
    {
      "cell_type": "markdown",
      "metadata": {
        "id": "rFiqJBWLtpz8"
      },
      "source": [
        "# IF__elif__else statement"
      ]
    },
    {
      "cell_type": "code",
      "metadata": {
        "id": "aXCROcsJrdAb",
        "outputId": "f2f5c881-e56d-454b-c7ed-06e733bcb227",
        "colab": {
          "base_uri": "https://localhost:8080/",
          "height": 34
        }
      },
      "source": [
        "grade = 77\n",
        "\n",
        "if grade >= 90:\n",
        " print('A')\n",
        "\n",
        "elif grade >= 80:\n",
        " print('B')\n",
        "\n",
        "elif grade >= 70:\n",
        " print('C')\n",
        "\n",
        "elif grade >= 60:\n",
        " print('D')\n",
        "\n",
        "else:\n",
        " print('F')"
      ],
      "execution_count": 9,
      "outputs": [
        {
          "output_type": "stream",
          "text": [
            "C\n"
          ],
          "name": "stdout"
        }
      ]
    },
    {
      "cell_type": "markdown",
      "metadata": {
        "id": "bBDkxNRxwHAc"
      },
      "source": [
        "# While Statement"
      ]
    },
    {
      "cell_type": "code",
      "metadata": {
        "id": "dE8TNm4btymq",
        "outputId": "c40bfe23-f839-4c99-b5af-a9798b820538",
        "colab": {
          "base_uri": "https://localhost:8080/",
          "height": 34
        }
      },
      "source": [
        "number = 1\n",
        "\n",
        "while (number<10):\n",
        "\n",
        " print(number, end=\" \")  #print in same line with space using end =\" \"\n",
        " number+=1"
      ],
      "execution_count": 13,
      "outputs": [
        {
          "output_type": "stream",
          "text": [
            "1 2 3 4 5 6 7 8 9 "
          ],
          "name": "stdout"
        }
      ]
    },
    {
      "cell_type": "markdown",
      "metadata": {
        "id": "Z9HkrGFOx1FR"
      },
      "source": [
        "*while statement to find the first power of 3 larger than 50:*"
      ]
    },
    {
      "cell_type": "code",
      "metadata": {
        "id": "9EouOiWXwMe9",
        "outputId": "f7255ab6-714d-48c3-a838-9849c6ffc8ff",
        "colab": {
          "base_uri": "https://localhost:8080/",
          "height": 34
        }
      },
      "source": [
        "product = 3\n",
        "\n",
        "while product<=50:\n",
        " product = product*3\n",
        "print(product)"
      ],
      "execution_count": 16,
      "outputs": [
        {
          "output_type": "stream",
          "text": [
            "81\n"
          ],
          "name": "stdout"
        }
      ]
    },
    {
      "cell_type": "markdown",
      "metadata": {
        "id": "5tJxvsRb0yby"
      },
      "source": [
        "# For statement"
      ]
    },
    {
      "cell_type": "code",
      "metadata": {
        "id": "szQXseXAzORo",
        "outputId": "3412a3e3-1571-4c1c-9068-18d0f84c19ec",
        "colab": {
          "base_uri": "https://localhost:8080/",
          "height": 34
        }
      },
      "source": [
        "for character in \"programming\":\n",
        " print(character, end=\" \")"
      ],
      "execution_count": 17,
      "outputs": [
        {
          "output_type": "stream",
          "text": [
            "p r o g r a m m i n g "
          ],
          "name": "stdout"
        }
      ]
    },
    {
      "cell_type": "markdown",
      "metadata": {
        "id": "FNG8o7Pa3fxS"
      },
      "source": [
        "# Built in Range Function"
      ]
    },
    {
      "cell_type": "markdown",
      "metadata": {
        "id": "lR4Fqe5O3oFi"
      },
      "source": [
        "*Let’s use a for statement and the built-in range function to iterate precisely 10 times, displaying the values from 0 through 9:*"
      ]
    },
    {
      "cell_type": "code",
      "metadata": {
        "id": "OyH3M0lI06k-",
        "outputId": "a4fac236-857e-44a6-a3ad-cd8cb4d6d35b",
        "colab": {
          "base_uri": "https://localhost:8080/",
          "height": 34
        }
      },
      "source": [
        "for counter in range(10):\n",
        " print(counter, end=\" \")"
      ],
      "execution_count": 18,
      "outputs": [
        {
          "output_type": "stream",
          "text": [
            "0 1 2 3 4 5 6 7 8 9 "
          ],
          "name": "stdout"
        }
      ]
    },
    {
      "cell_type": "markdown",
      "metadata": {
        "id": "MmPH86Hu4Hik"
      },
      "source": [
        "*Use the range function and a for statement to calculate the total of the integers from 0 through 1,000,000.*"
      ]
    },
    {
      "cell_type": "code",
      "metadata": {
        "id": "2PDfyRQ637R9",
        "outputId": "a78eb945-1923-4815-8822-fa03e522e6fc",
        "colab": {
          "base_uri": "https://localhost:8080/",
          "height": 34
        }
      },
      "source": [
        "total = 0\n",
        "\n",
        "for number in range(1000001):\n",
        " total = total+number\n",
        "\n",
        "print(total)"
      ],
      "execution_count": 21,
      "outputs": [
        {
          "output_type": "stream",
          "text": [
            "500000500000\n"
          ],
          "name": "stdout"
        }
      ]
    },
    {
      "cell_type": "markdown",
      "metadata": {
        "id": "jlLtU0kr4Yfh"
      },
      "source": [
        "*Function range also has two- and three-argument versions. As you’ve seen, range’s one argument version produces a sequence of consecutive integers from 0 up to, but not including, the argument’s value. Function range’s two-argument version produces a sequence of consecutive integers from its frst argument’s value up to, but not including, the second argument’s value, as in:*"
      ]
    },
    {
      "cell_type": "code",
      "metadata": {
        "id": "dM4XCYi94LNu",
        "outputId": "50ddc33b-5b9f-4b94-ac7a-849c784bd7fa",
        "colab": {
          "base_uri": "https://localhost:8080/",
          "height": 34
        }
      },
      "source": [
        "for number in range(5,10):\n",
        " print(number, end=\" \")"
      ],
      "execution_count": 22,
      "outputs": [
        {
          "output_type": "stream",
          "text": [
            "5 6 7 8 9 "
          ],
          "name": "stdout"
        }
      ]
    },
    {
      "cell_type": "markdown",
      "metadata": {
        "id": "XYet0RQm4kS5"
      },
      "source": [
        "*Function range’s three-argument version produces a sequence of integers from its frst argument’s value up to, but not including, the second argument’s value, incrementing by the third argument’s value, which is known as the step:*"
      ]
    },
    {
      "cell_type": "code",
      "metadata": {
        "id": "Swu4cyjF4fkU",
        "outputId": "0233380c-19fe-404e-fe77-b05bd5819005",
        "colab": {
          "base_uri": "https://localhost:8080/",
          "height": 34
        }
      },
      "source": [
        "for number in range(0,10,2):\n",
        " print(number, end=\" \")"
      ],
      "execution_count": 23,
      "outputs": [
        {
          "output_type": "stream",
          "text": [
            "0 2 4 6 8 "
          ],
          "name": "stdout"
        }
      ]
    },
    {
      "cell_type": "markdown",
      "metadata": {
        "id": "1QiugTOA5A4T"
      },
      "source": [
        "*If the third argument is negative, the sequence progresses from the frst argument’s value down to,but not including the second argument’s value, decrementing by the third argument’s value, as in:*"
      ]
    },
    {
      "cell_type": "code",
      "metadata": {
        "id": "K3WO7TFe485X",
        "outputId": "0d0bb7a5-55ca-47c8-ac08-aca899520c9a",
        "colab": {
          "base_uri": "https://localhost:8080/",
          "height": 34
        }
      },
      "source": [
        "for number in range(10,0,-2):\n",
        " print(number, end=\" \")"
      ],
      "execution_count": 25,
      "outputs": [
        {
          "output_type": "stream",
          "text": [
            "10 8 6 4 2 "
          ],
          "name": "stdout"
        }
      ]
    },
    {
      "cell_type": "markdown",
      "metadata": {
        "id": "Lpw9YgwD5nDX"
      },
      "source": [
        "*Number table print using range function*"
      ]
    },
    {
      "cell_type": "code",
      "metadata": {
        "id": "TeC9TxLO5ItU",
        "outputId": "be9484a3-7ee7-4db8-df1f-ab4f1f411493",
        "colab": {
          "base_uri": "https://localhost:8080/",
          "height": 204
        }
      },
      "source": [
        "number = int(input())\n",
        "for i in range(1,11):\n",
        " print(number,\"X\",i,\"=\",number*i)"
      ],
      "execution_count": 26,
      "outputs": [
        {
          "output_type": "stream",
          "text": [
            "9\n",
            "9 X 1 = 9\n",
            "9 X 2 = 18\n",
            "9 X 3 = 27\n",
            "9 X 4 = 36\n",
            "9 X 5 = 45\n",
            "9 X 6 = 54\n",
            "9 X 7 = 63\n",
            "9 X 8 = 72\n",
            "9 X 9 = 81\n",
            "9 X 10 = 90\n"
          ],
          "name": "stdout"
        }
      ]
    },
    {
      "cell_type": "markdown",
      "metadata": {
        "id": "tAbYizHW6XQ-"
      },
      "source": [
        "*Nested For Loop*"
      ]
    },
    {
      "cell_type": "code",
      "metadata": {
        "id": "oawHqWlb5pY4",
        "outputId": "25667a6a-50e5-467e-bbef-b5ae22f94878",
        "colab": {
          "base_uri": "https://localhost:8080/",
          "height": 136
        }
      },
      "source": [
        "for left in range(7):\n",
        "\n",
        " for right in range(left,7):\n",
        "  print(\"[\"+str(left)+\"|\"+str(right)+\"]\", end =\"\")\n",
        " print()"
      ],
      "execution_count": 28,
      "outputs": [
        {
          "output_type": "stream",
          "text": [
            "[0|0][0|1][0|2][0|3][0|4][0|5][0|6]\n",
            "[1|1][1|2][1|3][1|4][1|5][1|6]\n",
            "[2|2][2|3][2|4][2|5][2|6]\n",
            "[3|3][3|4][3|5][3|6]\n",
            "[4|4][4|5][4|6]\n",
            "[5|5][5|6]\n",
            "[6|6]\n"
          ],
          "name": "stdout"
        }
      ]
    },
    {
      "cell_type": "markdown",
      "metadata": {
        "id": "80IdcBj46-hT"
      },
      "source": [
        "*Break statement*"
      ]
    },
    {
      "cell_type": "code",
      "metadata": {
        "id": "j-v5dr7V6ck2",
        "outputId": "1bf30bc3-6187-403b-ecf2-dabea511d631",
        "colab": {
          "base_uri": "https://localhost:8080/",
          "height": 34
        }
      },
      "source": [
        "for number in range(10):\n",
        " if number==5:\n",
        "\n",
        "  break\n",
        "\n",
        " print(number, end=\" \")"
      ],
      "execution_count": 32,
      "outputs": [
        {
          "output_type": "stream",
          "text": [
            "0 1 2 3 4 "
          ],
          "name": "stdout"
        }
      ]
    },
    {
      "cell_type": "markdown",
      "metadata": {
        "id": "7aDqSj9D8AIt"
      },
      "source": [
        "*Continue statement*"
      ]
    },
    {
      "cell_type": "code",
      "metadata": {
        "id": "-dDLdaw87A4N",
        "outputId": "40ec6b43-e582-4637-866a-b1364d489512",
        "colab": {
          "base_uri": "https://localhost:8080/",
          "height": 34
        }
      },
      "source": [
        "for number in range(10):\n",
        " if number==5:\n",
        "  continue\n",
        "\n",
        " print(number, end=\" \")"
      ],
      "execution_count": 41,
      "outputs": [
        {
          "output_type": "stream",
          "text": [
            "0 1 2 3 4 6 7 8 9 "
          ],
          "name": "stdout"
        }
      ]
    },
    {
      "cell_type": "markdown",
      "metadata": {
        "id": "w5c_lfkC8mv7"
      },
      "source": [
        "# Extremely Basic"
      ]
    },
    {
      "cell_type": "code",
      "metadata": {
        "id": "DN2ZQS3O8kkX",
        "outputId": "ee2097e1-509d-4e84-8e8d-b2819cc641aa",
        "colab": {
          "base_uri": "https://localhost:8080/",
          "height": 68
        }
      },
      "source": [
        "a = int(input())\n",
        "b = int(input())\n",
        "x = a + b\n",
        "print(x)"
      ],
      "execution_count": 46,
      "outputs": [
        {
          "output_type": "stream",
          "text": [
            "5\n",
            "7\n",
            "12\n"
          ],
          "name": "stdout"
        }
      ]
    },
    {
      "cell_type": "markdown",
      "metadata": {
        "id": "9aLp1s9s9knd"
      },
      "source": [
        "# Area of a Circle"
      ]
    },
    {
      "cell_type": "code",
      "metadata": {
        "id": "5OSCKXyc9JBk",
        "outputId": "e45e3b9d-9238-4f51-a4a5-bec47a487418",
        "colab": {
          "base_uri": "https://localhost:8080/",
          "height": 51
        }
      },
      "source": [
        "r = float(input())\n",
        "pi = 3.14159\n",
        "a = pi * (pow(r,2))\n",
        "print(a)"
      ],
      "execution_count": 48,
      "outputs": [
        {
          "output_type": "stream",
          "text": [
            "2\n",
            "12.56636\n"
          ],
          "name": "stdout"
        }
      ]
    },
    {
      "cell_type": "markdown",
      "metadata": {
        "id": "MOpgtJjB-ZIF"
      },
      "source": [
        "# Age in Days"
      ]
    },
    {
      "cell_type": "code",
      "metadata": {
        "id": "VnxAmihP9pZe",
        "outputId": "1d0bb48f-06d4-44f8-9550-6fff45dff901",
        "colab": {
          "base_uri": "https://localhost:8080/",
          "height": 85
        }
      },
      "source": [
        "days = int(input());\n",
        "\n",
        "years = int(days/365);\n",
        "days -= years*365;\n",
        "\n",
        "months = int(days/30);\n",
        "days -= months*30;\n",
        "\n",
        "print(repr(years)+\" ano(s)\");\n",
        "print(repr(months)+\" mes(es)\");\n",
        "print(repr(days)+\" dia(s)\");"
      ],
      "execution_count": 49,
      "outputs": [
        {
          "output_type": "stream",
          "text": [
            "400\n",
            "1 ano(s)\n",
            "1 mes(es)\n",
            "5 dia(s)\n"
          ],
          "name": "stdout"
        }
      ]
    },
    {
      "cell_type": "code",
      "metadata": {
        "id": "oLkVSBMK-lzA"
      },
      "source": [
        ""
      ],
      "execution_count": null,
      "outputs": []
    }
  ]
}